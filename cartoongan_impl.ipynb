{
  "nbformat": 4,
  "nbformat_minor": 0,
  "metadata": {
    "colab": {
      "name": "cartoongan-impl.ipynb",
      "provenance": [],
      "collapsed_sections": [],
      "mount_file_id": "1WgQ1lxkpkbLccBITQUsaO6k2J6JWt2ww",
      "authorship_tag": "ABX9TyNXfuck7Ikg6Vv028RT2YIJ",
      "include_colab_link": true
    },
    "kernelspec": {
      "name": "python3",
      "display_name": "Python 3"
    }
  },
  "cells": [
    {
      "cell_type": "markdown",
      "metadata": {
        "id": "view-in-github",
        "colab_type": "text"
      },
      "source": [
        "<a href=\"https://colab.research.google.com/github/GarlandZhang/pg-toons/blob/master/cartoongan_impl.ipynb\" target=\"_parent\"><img src=\"https://colab.research.google.com/assets/colab-badge.svg\" alt=\"Open In Colab\"/></a>"
      ]
    },
    {
      "cell_type": "code",
      "metadata": {
        "id": "bmDVaw7HqWmD",
        "colab_type": "code",
        "colab": {}
      },
      "source": [
        "!rm -r keras-contrib/ \n",
        "# !pip uninstall -y tensorflow-gpu==2.0.0-alpha0\n",
        "# !pip uninstall -y tensorflow\n",
        "# !pip install tensorflow-gpu==2.0.0-alpha0\n",
        "!git clone https://www.github.com/keras-team/keras-contrib.git \\\n",
        "    && cd keras-contrib \\\n",
        "    && pip install git+https://www.github.com/keras-team/keras-contrib.git \\\n",
        "    && python convert_to_tf_keras.py \\\n",
        "    && USE_TF_KERAS=1 python setup.py install\n",
        "# clear_output()\n",
        "!pip install -q  --no-deps tensorflow-addons~=0.7"
      ],
      "execution_count": 22,
      "outputs": []
    },
    {
      "cell_type": "code",
      "metadata": {
        "id": "Q_ihsALFkr3w",
        "colab_type": "code",
        "colab": {}
      },
      "source": [
        "import tensorflow as tf\n",
        "import tensorflow.keras.backend as K\n",
        "from tensorflow.keras.models import Model, Sequential\n",
        "from tensorflow.keras.layers import Layer, InputSpec, DepthwiseConv2D, Conv2D, BatchNormalization, Add, ReLU, LeakyReLU, ZeroPadding2D, Activation\n",
        "import tensorflow_addons as tfa"
      ],
      "execution_count": 23,
      "outputs": []
    },
    {
      "cell_type": "code",
      "metadata": {
        "id": "0rgDgR1fUynq",
        "colab_type": "code",
        "colab": {}
      },
      "source": [
        "import numpy as np"
      ],
      "execution_count": 30,
      "outputs": []
    },
    {
      "cell_type": "code",
      "metadata": {
        "id": "pfj_Aj-2xoun",
        "colab_type": "code",
        "colab": {}
      },
      "source": [
        "\"\"\"\n",
        "Not sure what this does\n",
        "\"\"\"\n",
        "\n",
        "class ReflectionPadding2D(Layer):\n",
        "  def __init__(self, padding=(1, 1), **kwargs):\n",
        "    super(ReflectionPadding2D, self).__init__(**kwargs)\n",
        "    padding = tuple(padding)\n",
        "    self.padding = ((0, 0), padding, padding, (0, 0))\n",
        "    self.input_spec = [InputSpec(ndim=4)]\n",
        "\n",
        "  def compute_output_shape(self, s):\n",
        "    return s[0], s[1] + 2 * self.paddding[0], s[2] + 2 * self.padding[1], s[3]\n",
        "\n",
        "  def call(self, x):\n",
        "    return tf.pad(x, self.padding, \"REFLECT\")"
      ],
      "execution_count": 6,
      "outputs": []
    },
    {
      "cell_type": "code",
      "metadata": {
        "id": "jK9cK5baxVPX",
        "colab_type": "code",
        "colab": {}
      },
      "source": [
        "def get_padding(pad_type, padding):\n",
        "  if pad_type == 'reflect':\n",
        "    return ReflectionPadding2D(padding)\n",
        "  elif pad_type == 'constant':\n",
        "    return ZeroPadding2D(padding)\n",
        "  else:\n",
        "    raise ValueError(f'Invalid padding type: {pad_type}')"
      ],
      "execution_count": 7,
      "outputs": []
    },
    {
      "cell_type": "code",
      "metadata": {
        "id": "bz0hHKqpzh_P",
        "colab_type": "code",
        "colab": {}
      },
      "source": [
        "def get_norm(norm_type):\n",
        "  if norm_type == 'instance':\n",
        "    return tfa.layers.InstanceNormalization()\n",
        "  elif norm_type == 'batch':\n",
        "    return BatchNormalization\n",
        "  else:\n",
        "    raise ValueError(f'Invalid norm type: {norm_type}')"
      ],
      "execution_count": 24,
      "outputs": []
    },
    {
      "cell_type": "code",
      "metadata": {
        "id": "_iZX8QK3uHXw",
        "colab_type": "code",
        "colab": {}
      },
      "source": [
        "class FlatConv(Model):\n",
        "  def __init__(self,\n",
        "               filters,\n",
        "               kernel_size,\n",
        "               norm_type='instance',\n",
        "               pad_type='constant',\n",
        "               **kwargs):\n",
        "    super(FlatConv, self).__init__(name='FlatConv')\n",
        "    \"\"\"\n",
        "    # assuming stride=1, remaining size will be (W - kernel_size) + 1 * (8 - kernel_size) + 1 so must add back (kernel_size - 1) // 2\n",
        "    \"\"\"\n",
        "    padding = (kernel_size - 1) // 2\n",
        "    padding = (padding, padding)\n",
        "\n",
        "    self.model = Sequential([\n",
        "                             get_padding(pad_type, padding),\n",
        "                             Conv2D(filters, kernel_size),\n",
        "                             get_norm(norm_type),\n",
        "                             ReLU()\n",
        "    ])\n",
        "\n",
        "  def call(self, x, training=False):\n",
        "    return self.model(x, training=training)\n"
      ],
      "execution_count": 34,
      "outputs": []
    },
    {
      "cell_type": "code",
      "metadata": {
        "id": "nE0WxKQf13Rn",
        "colab_type": "code",
        "colab": {}
      },
      "source": [
        "class ConvBlock(Model):\n",
        "  def __init__(self,\n",
        "               filters,\n",
        "               kernel_size,\n",
        "               stride=1,\n",
        "               norm_type='instance',\n",
        "               pad_type='constant',\n",
        "               **kwargs):\n",
        "    super(ConvBlock, self).__init__(name='ConvBlock')\n",
        "  \n",
        "    padding = (kernel_size - 1) // 2\n",
        "    padding = (padding, padding)\n",
        "\n",
        "    self.model = Sequential([\n",
        "                              get_padding(pad_type, padding),\n",
        "                              Conv2D(filters, kernel_size, strides=stride),\n",
        "                              get_padding(pad_type, padding),\n",
        "                              Conv2D(filters, kernel_size),\n",
        "                              get_norm(norm_type),\n",
        "                              ReLU()\n",
        "    ])\n",
        "\n",
        "  def call(self, x, training=False):\n",
        "    return self.model(x, training=training)"
      ],
      "execution_count": 35,
      "outputs": []
    },
    {
      "cell_type": "code",
      "metadata": {
        "id": "la4ZE9gc2FXC",
        "colab_type": "code",
        "colab": {}
      },
      "source": [
        "class ResBlock(Model):\n",
        "  def __init__(self,\n",
        "               filters,\n",
        "               kernel_size,\n",
        "               norm_type='instance',\n",
        "               pad_type='constant',\n",
        "               **kwargs):\n",
        "    super(ResBlock, self).__init__(name='ResBlock')\n",
        "    \n",
        "    padding = (kernel_size - 1) // 2\n",
        "    padding = (padding, padding)\n",
        "\n",
        "    self.model = Sequential([\n",
        "                             get_padding(pad_type, padding),\n",
        "                             Conv2D(filters, kernel_size),\n",
        "                             get_norm(norm_type),\n",
        "                             ReLU(),\n",
        "                             get_padding(pad_type, padding),\n",
        "                             Conv2D(filters, kernel_size),\n",
        "                             get_norm(norm_type)\n",
        "    ])\n",
        "\n",
        "    self.add = Add()\n",
        "\n",
        "  def call(self, x, training=False):\n",
        "    return self.add([self.model(x, training=training), x])"
      ],
      "execution_count": 16,
      "outputs": []
    },
    {
      "cell_type": "code",
      "metadata": {
        "id": "qMYs6f90E3cr",
        "colab_type": "code",
        "colab": {}
      },
      "source": [
        "class UpSampleConv(Model):\n",
        "  def __init__(self,\n",
        "               filters,\n",
        "               kernel_size,\n",
        "               norm_type='instance',\n",
        "               pad_type='constant',\n",
        "               **kwargs):\n",
        "    super(UpSampleConv, self).__init__(name='UpSampleConv')\n",
        "    self.model = ConvBlock(filters, kernel_size, 1, norm_type, pad_type)\n",
        "\n",
        "  def call(self, x, training=False):\n",
        "    \"\"\"\n",
        "    In downsampling, we can get away with reducing size in half by setting stride=2\n",
        "    In upsample, we need to do directly resize the images\n",
        "    \"\"\"\n",
        "    x = tf.keras.backend.resize_images(x, 2, 2, \"channels_last\", 'bilinear')\n",
        "    return self.model(x, training=training)"
      ],
      "execution_count": 39,
      "outputs": []
    },
    {
      "cell_type": "code",
      "metadata": {
        "id": "3oewDUupJMvC",
        "colab_type": "code",
        "colab": {}
      },
      "source": [
        "class Generator(Model):\n",
        "  def __init__(self,\n",
        "               norm_type='instance',\n",
        "               pad_type='constant',\n",
        "               base_filters=64,\n",
        "               num_resblocks=8):\n",
        "    super(Generator, self).__init__(name='Generator')\n",
        "    self.flat_conv = FlatConv(filters=base_filters, kernel_size=7, norm_type=norm_type, pad_type=pad_type)\n",
        "    self.down_conv1 = ConvBlock(mid_filters=base_filters, filters=base_filters * 2, kernel_size=3, stride=2, norm_type=norm_type, pad_type=pad_type)\n",
        "    self.down_conv2 = ConvBlock(mid_filters=base_filters, filters=base_filters * 4, kernel_size=3, stride=2, norm_type=norm_type, pad_type=pad_type)\n",
        "    self.res_blocks = Sequential([ResBlock(filters=base_filters * 4, kernel_size=3, norm_type=norm_type, pad_type=pad_type) for _ in range(num_resblocks)])\n",
        "    self.up_conv1 = UpSampleConv(filters=base_filters * 2, kernel_size=3, norm_type=norm_type, pad_type=pad_type)\n",
        "    self.up_conv2 = UpSampleConv(filters=base_filters, kernel_size=3, norm_type=norm_type, pad_type=pad_type)\n",
        "\n",
        "    padding = (3, 3)\n",
        "    self.final_conv = Sequential([\n",
        "                                  get_padding(pad_type, padding),\n",
        "                                  Conv2D(filters=3, kernel_size=7),\n",
        "                                  Activation('tanh')\n",
        "    ])\n",
        "\n",
        "  def call(self, x, training=False):\n",
        "    x = self.flat_conv(x, training=training)\n",
        "    x = self.down_conv1(x, training=training)\n",
        "    x = self.down_conv2(x, training=training)\n",
        "    x = self.res_blocks(x, training=training)\n",
        "    x = self.up_conv1(x, training=training)\n",
        "    x = self.up_conv2(x, training=training)\n",
        "    x = self.final_conv(x, training=training)\n",
        "    return x\n",
        "\n",
        "  def compute_output_shape(self, input_shape):\n",
        "    return tf.TensorShape(input_shape)\n"
      ],
      "execution_count": 41,
      "outputs": []
    },
    {
      "cell_type": "code",
      "metadata": {
        "id": "7kFbWRkqPg92",
        "colab_type": "code",
        "colab": {
          "base_uri": "https://localhost:8080/",
          "height": 403
        },
        "outputId": "0e0b98d7-35ff-431f-8a69-a884e7cf3354"
      },
      "source": [
        "g = Generator()\n",
        "shape = (1, 256, 256, 3)\n",
        "nx = np.random.rand(*shape).astype(np.float32)\n",
        "t = tf.keras.Input(shape=nx.shape[1:], batch_size=nx.shape[0])\n",
        "out = g(t, training=False)\n",
        "g.summary()\n",
        "print(f'in: {nx.shape} vs out: {out.shape}')"
      ],
      "execution_count": 42,
      "outputs": [
        {
          "output_type": "stream",
          "text": [
            "Model: \"Generator\"\n",
            "_________________________________________________________________\n",
            "Layer (type)                 Output Shape              Param #   \n",
            "=================================================================\n",
            "FlatConv (FlatConv)          (1, 256, 256, 64)         9600      \n",
            "_________________________________________________________________\n",
            "ConvBlock (ConvBlock)        (1, 128, 128, 128)        221696    \n",
            "_________________________________________________________________\n",
            "ConvBlock (ConvBlock)        (1, 64, 64, 256)          885760    \n",
            "_________________________________________________________________\n",
            "sequential_115 (Sequential)  (1, 64, 64, 256)          9449472   \n",
            "_________________________________________________________________\n",
            "UpSampleConv (UpSampleConv)  (1, 128, 128, 128)        442880    \n",
            "_________________________________________________________________\n",
            "UpSampleConv (UpSampleConv)  (1, 256, 256, 64)         110848    \n",
            "_________________________________________________________________\n",
            "sequential_118 (Sequential)  (1, 256, 256, 3)          9411      \n",
            "=================================================================\n",
            "Total params: 11,129,667\n",
            "Trainable params: 11,129,667\n",
            "Non-trainable params: 0\n",
            "_________________________________________________________________\n",
            "in: (1, 256, 256, 3) vs out: (1, 256, 256, 3)\n"
          ],
          "name": "stdout"
        }
      ]
    },
    {
      "cell_type": "code",
      "metadata": {
        "id": "vt0h1_3iPh1s",
        "colab_type": "code",
        "colab": {}
      },
      "source": [
        ""
      ],
      "execution_count": null,
      "outputs": []
    }
  ]
}